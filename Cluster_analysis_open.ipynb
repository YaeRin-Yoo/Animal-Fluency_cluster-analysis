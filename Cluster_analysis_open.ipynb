{
  "nbformat": 4,
  "nbformat_minor": 0,
  "metadata": {
    "colab": {
      "provenance": [],
      "mount_file_id": "16I_xbq1ZNAN8HcCT2PQOFTFZ_dSBPEEb",
      "authorship_tag": "ABX9TyNsZqDUAB1lGIhOQ6hAhOqW",
      "include_colab_link": true
    },
    "kernelspec": {
      "name": "python3",
      "display_name": "Python 3"
    },
    "language_info": {
      "name": "python"
    }
  },
  "cells": [
    {
      "cell_type": "markdown",
      "metadata": {
        "id": "view-in-github",
        "colab_type": "text"
      },
      "source": [
        "<a href=\"https://colab.research.google.com/github/YaeRin-Yoo/Animal-Fluency_correct-response_analysis_240813/blob/main/Cluster_analysis_open.ipynb\" target=\"_parent\"><img src=\"https://colab.research.google.com/assets/colab-badge.svg\" alt=\"Open In Colab\"/></a>"
      ]
    },
    {
      "cell_type": "code",
      "source": [
        "import pandas as pd , numpy as np, csv"
      ],
      "metadata": {
        "id": "OpPr4SSyAmDr"
      },
      "execution_count": 2,
      "outputs": []
    },
    {
      "cell_type": "markdown",
      "source": [
        "# 군집 별 동물 리스트 정리\n",
        "\n",
        "cluster1 : 서식지 관련\n",
        "\n",
        "*   1\t동물원: 우리나라에서 서식하지 않는 동물 (분포지역이 대한민국이 아닌 동물) -- 물+육지인 경우도 포함\n",
        "*   2\t물 속: 물 속에서만 사는 동물\n",
        "*   3\t야생동물: 우리나라에서 서식(산,들)하면서 애완/가축이 아닌 경우 (예: 새, 개구리, 오소리 포함)\n",
        "*   4\t가축: 우리나라에서 키우는 식용 동물 (도축)\n",
        "*   5\t반려동물: 사람과 더불어 살며 심리적으로 안정감을 주는 동물 (예: 개, 고양이, 앵무새, 햄스터, 고슴도치)\n",
        "*   6\t멸종동물: 공룡, 매머드, 키위, 오스트랄로피테쿠스\n",
        "*   7\t상위동물 : 포유류, 맹금류 등 상위어를 말한 경우\n",
        "*   8 제외\n",
        "\n",
        "\n",
        "cluster2 : 종류 관련\n",
        "\n",
        "\n",
        "*   1 : 곤충\n",
        "2 : 조류\n",
        "3 : 파충류/양서류\n",
        "4 : 포유류\n",
        "5 : 어류\n",
        "6 : 영장류\n",
        "7 : 무척추동물\n",
        "8 : 관계성\n",
        "\n",
        "cluster3 : cluster1, cluster2\n",
        "\n",
        "\n"
      ],
      "metadata": {
        "id": "A56Xfef6_XnB"
      }
    },
    {
      "cell_type": "code",
      "execution_count": 6,
      "metadata": {
        "id": "wdrnJ5qf9yn6"
      },
      "outputs": [],
      "source": [
        "# Animal Inventory file import\n",
        "inventory = pd.read_csv('/content/drive/MyDrive/연구 코드/Animal fluency Kor 2024/csv/정리 inventory/all_data_240813.csv')"
      ]
    },
    {
      "cell_type": "code",
      "source": [
        "# cluster 정리 : 동물 리스트 넣으면 inventory의 cluster 1, 2에 대해 접근하여 (cluster1, cluster2) 식으로 군집 리턴\n",
        "\n",
        "def finding_cluster (animal_list) :\n",
        "  each_c3 =[]\n",
        "\n",
        "  for animal in animal_list :\n",
        "    number = inventory[inventory['동물_수정']==animal].index.values[0]\n",
        "    c1 = inventory['군집1'].loc[number]\n",
        "    if str(inventory['군집2'].loc[number]) != 'nan' :\n",
        "      c2 = int(inventory['군집2'].loc[number])\n",
        "    else :\n",
        "      c2 = 'X'\n",
        "    c3 = (c1,c2)\n",
        "    #str(c1)+str(c2) = c1c2 이런 식으로 나옴\n",
        "\n",
        "    each_c3.append(c3)\n",
        "\n",
        "  return each_c3"
      ],
      "metadata": {
        "id": "Lyg8F3WeCn1f"
      },
      "execution_count": 7,
      "outputs": []
    },
    {
      "cell_type": "code",
      "source": [
        "finding_cluster (['토끼', '산토끼', '소', '물소', '개구리', '올챙이'])"
      ],
      "metadata": {
        "colab": {
          "base_uri": "https://localhost:8080/"
        },
        "id": "X0OS3EEvIDqZ",
        "outputId": "63a4a60b-9643-43a6-914a-458bdbd090a5"
      },
      "execution_count": 8,
      "outputs": [
        {
          "output_type": "execute_result",
          "data": {
            "text/plain": [
              "[(5, 4), (3, 4), (4, 4), (1, 4), (3, 3), (3, 3)]"
            ]
          },
          "metadata": {},
          "execution_count": 8
        }
      ]
    },
    {
      "cell_type": "code",
      "source": [
        "# cluster 수 세는 함수 : a는 군집 하나\n",
        "\n",
        "def cluster_number (animal_list) :\n",
        "  c3 = finding_cluster(animal_list)\n",
        "\n",
        "  c3_cn = []\n",
        "  for a in range (len(c3)-1) :\n",
        "    if c3[a] == c3[a+1] :\n",
        "      no = 0\n",
        "    else :\n",
        "      no = 1\n",
        "    c3_cn.append(no)\n",
        "  c3_cn.append(1) #마지막에 1 붙여주어야 함\n",
        "\n",
        "  return c3_cn"
      ],
      "metadata": {
        "id": "nHwT_G1QPpOY"
      },
      "execution_count": 9,
      "outputs": []
    },
    {
      "cell_type": "code",
      "source": [
        "cluster_number (['토끼', '산토끼', '소', '물소', '개구리', '올챙이'])"
      ],
      "metadata": {
        "colab": {
          "base_uri": "https://localhost:8080/"
        },
        "id": "sFOHwBvyTLoq",
        "outputId": "c25e0674-7838-4d83-f556-c20e977bd689"
      },
      "execution_count": 10,
      "outputs": [
        {
          "output_type": "execute_result",
          "data": {
            "text/plain": [
              "[1, 1, 1, 1, 0, 1]"
            ]
          },
          "metadata": {},
          "execution_count": 10
        }
      ]
    },
    {
      "cell_type": "code",
      "source": [
        "# cluster size 세는 함수 : a는 cluster number 값 (0 or 1) 하나\n",
        "\n",
        "def cluster_size (animal_list) :\n",
        "  c3_cn = cluster_number(animal_list)\n",
        "\n",
        "  c3_cs = []\n",
        "  size = 0\n",
        "  for a in range (len(c3_cn)) :\n",
        "    if c3_cn[a] == 0 :\n",
        "      write = 0\n",
        "      c3_cs.append(write)\n",
        "      size = size +1\n",
        "    elif c3_cn[a] == 1 :\n",
        "      c3_cs.append(size)\n",
        "      size = 0\n",
        "\n",
        "\n",
        "  return c3_cs"
      ],
      "metadata": {
        "id": "JvVM0xXWUARL"
      },
      "execution_count": 11,
      "outputs": []
    },
    {
      "cell_type": "code",
      "source": [
        "cluster_size (['토끼', '산토끼', '소', '물소', '개구리', '올챙이'])"
      ],
      "metadata": {
        "colab": {
          "base_uri": "https://localhost:8080/"
        },
        "id": "62hvvENGV78K",
        "outputId": "07a2ed08-9949-45ea-9533-5d9699d633cb"
      },
      "execution_count": 12,
      "outputs": [
        {
          "output_type": "execute_result",
          "data": {
            "text/plain": [
              "[0, 0, 0, 0, 0, 1]"
            ]
          },
          "metadata": {},
          "execution_count": 12
        }
      ]
    },
    {
      "cell_type": "code",
      "source": [
        "# final 값이 담긴 함수 제작 : total cluster number, the number of switchings, total cluster size, mean cluster size 리턴\n",
        "\n",
        "def final_score (animal_list) :\n",
        "  c3_cn = cluster_number(animal_list)\n",
        "  c3_cs = cluster_size(animal_list)\n",
        "\n",
        "  c3_cn_f = sum(c3_cn)\n",
        "  c3_s_f = sum(c3_cn)-1\n",
        "  c3_cs_f = sum(c3_cs)\n",
        "  c3_mcs_f = sum(c3_cs) / sum(c3_cn)\n",
        "\n",
        "  return c3_cn_f, c3_s_f, c3_cs_f, c3_mcs_f"
      ],
      "metadata": {
        "id": "9Cvb6NhlWkQm"
      },
      "execution_count": 15,
      "outputs": []
    },
    {
      "cell_type": "code",
      "source": [
        "final_score (['토끼', '산토끼', '소', '물소', '개구리', '올챙이'])"
      ],
      "metadata": {
        "colab": {
          "base_uri": "https://localhost:8080/"
        },
        "id": "CetNdELPYRxM",
        "outputId": "8b334a57-fa4d-4b78-a6fc-a1e2cc3ea5a6"
      },
      "execution_count": 16,
      "outputs": [
        {
          "output_type": "execute_result",
          "data": {
            "text/plain": [
              "(5, 4, 1, 0.2)"
            ]
          },
          "metadata": {},
          "execution_count": 16
        }
      ]
    }
  ]
}