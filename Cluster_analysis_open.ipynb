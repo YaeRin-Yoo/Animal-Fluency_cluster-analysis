{
  "nbformat": 4,
  "nbformat_minor": 0,
  "metadata": {
    "colab": {
      "provenance": [],
      "mount_file_id": "16I_xbq1ZNAN8HcCT2PQOFTFZ_dSBPEEb",
      "authorship_tag": "ABX9TyNyqWJkfAM8n/1KKK4Vp5/j",
      "include_colab_link": true
    },
    "kernelspec": {
      "name": "python3",
      "display_name": "Python 3"
    },
    "language_info": {
      "name": "python"
    }
  },
  "cells": [
    {
      "cell_type": "markdown",
      "metadata": {
        "id": "view-in-github",
        "colab_type": "text"
      },
      "source": [
        "<a href=\"https://colab.research.google.com/github/YaeRin-Yoo/Animal-Fluency_cluster-analysis/blob/main/Cluster_analysis_open.ipynb\" target=\"_parent\"><img src=\"https://colab.research.google.com/assets/colab-badge.svg\" alt=\"Open In Colab\"/></a>"
      ]
    },
    {
      "cell_type": "code",
      "source": [
        "import pandas as pd , numpy as np, csv"
      ],
      "metadata": {
        "id": "OpPr4SSyAmDr"
      },
      "execution_count": 2,
      "outputs": []
    },
    {
      "cell_type": "code",
      "execution_count": 3,
      "metadata": {
        "id": "wdrnJ5qf9yn6"
      },
      "outputs": [],
      "source": [
        "# Animal Inventory file import\n",
        "inventory = pd.read_csv('Path of your intentory file')"
      ]
    },
    {
      "cell_type": "code",
      "source": [
        "# cluster 정리 : 동물 리스트 넣으면 inventory의 cluster 1, 2에 대해 접근하여 (cluster1, cluster2) 식으로 군집 리턴\n",
        "\n",
        "def finding_cluster (animal_list) :\n",
        "  each_cluster =[]\n",
        "\n",
        "  for animal in animal_list :\n",
        "    number = inventory[inventory['동물_수정']==animal].index.values[0]\n",
        "    c1 = inventory['군집1'].loc[number]\n",
        "    if str(inventory['군집2'].loc[number]) != 'nan' :\n",
        "      c2 = int(inventory['군집2'].loc[number])\n",
        "    else :\n",
        "      c2 = 'X'\n",
        "    cluster = (c1,c2)\n",
        "    #str(c1)+str(c2) = c1c2 이런 식으로 나옴\n",
        "\n",
        "    each_cluster.append(cluster)\n",
        "\n",
        "  return each_cluster"
      ],
      "metadata": {
        "id": "Lyg8F3WeCn1f"
      },
      "execution_count": 7,
      "outputs": []
    },
    {
      "cell_type": "code",
      "source": [
        "#확인\n",
        "finding_cluster (['토끼', '산토끼', '소', '물소', '개구리', '올챙이'])"
      ],
      "metadata": {
        "colab": {
          "base_uri": "https://localhost:8080/"
        },
        "id": "X0OS3EEvIDqZ",
        "outputId": "b9204337-94f0-4823-ec01-b9daec0d84a5"
      },
      "execution_count": 8,
      "outputs": [
        {
          "output_type": "execute_result",
          "data": {
            "text/plain": [
              "[(5, 4), (3, 4), (4, 4), (1, 4), (3, 3), (3, 3)]"
            ]
          },
          "metadata": {},
          "execution_count": 8
        }
      ]
    },
    {
      "cell_type": "code",
      "source": [
        "# counting_number_of_clusters : cluster 수 세는 함수 : word는 동물 하나를 의미\n",
        "\n",
        "def counting_number_of_clusters (animal_list) :\n",
        "  word_list = finding_cluster(animal_list)\n",
        "\n",
        "  number_of_clusters = []\n",
        "  for word in range (len(word_list)-1) :\n",
        "    if word_list[word] == word_list[word+1] :\n",
        "      no = 0\n",
        "    else :\n",
        "      no = 1\n",
        "    number_of_clusters.append(no)\n",
        "  number_of_clusters.append(1) #마지막에 1 붙여주어야 함\n",
        "\n",
        "  return number_of_clusters"
      ],
      "metadata": {
        "id": "nHwT_G1QPpOY"
      },
      "execution_count": 11,
      "outputs": []
    },
    {
      "cell_type": "code",
      "source": [
        "# 확인\n",
        "counting_number_of_clusters (['토끼', '산토끼', '소', '물소', '개구리', '올챙이'])"
      ],
      "metadata": {
        "colab": {
          "base_uri": "https://localhost:8080/"
        },
        "id": "sFOHwBvyTLoq",
        "outputId": "42192231-e704-454f-ebc0-5d75cd68dc5c"
      },
      "execution_count": 12,
      "outputs": [
        {
          "output_type": "execute_result",
          "data": {
            "text/plain": [
              "[1, 1, 1, 1, 0, 1]"
            ]
          },
          "metadata": {},
          "execution_count": 12
        }
      ]
    },
    {
      "cell_type": "code",
      "source": [
        "# counting_cluster_size : cluster size 세는 함수\n",
        "# a는 number_of_clusters의 word index\n",
        "\n",
        "def counting_cluster_size (animal_list) :\n",
        "  number_of_clusters = counting_number_of_clusters(animal_list)\n",
        "\n",
        "  cluster_size = []\n",
        "  size = 0\n",
        "  for a in range (len(number_of_clusters)) :\n",
        "    if number_of_clusters[a] == 0 :\n",
        "      write = 0\n",
        "      cluster_size.append(write)\n",
        "      size = size +1\n",
        "    elif number_of_clusters[a] == 1 :\n",
        "      cluster_size.append(size)\n",
        "      size = 0\n",
        "\n",
        "\n",
        "  return cluster_size"
      ],
      "metadata": {
        "id": "JvVM0xXWUARL"
      },
      "execution_count": 14,
      "outputs": []
    },
    {
      "cell_type": "code",
      "source": [
        "# 확인\n",
        "counting_cluster_size (['토끼', '산토끼', '소', '물소', '개구리', '올챙이'])"
      ],
      "metadata": {
        "colab": {
          "base_uri": "https://localhost:8080/"
        },
        "id": "62hvvENGV78K",
        "outputId": "f65bac4a-7f95-41d7-d6d7-06ca8b9c75b0"
      },
      "execution_count": 15,
      "outputs": [
        {
          "output_type": "execute_result",
          "data": {
            "text/plain": [
              "[0, 0, 0, 0, 0, 1]"
            ]
          },
          "metadata": {},
          "execution_count": 15
        }
      ]
    },
    {
      "cell_type": "code",
      "source": [
        "# final 값이 담긴 함수 제작 : the number of total clusters, the number of switchings, total cluster size, mean cluster size 리턴\n",
        "\n",
        "def final_score (animal_list) :\n",
        "  number_of_clusters = counting_number_of_clusters(animal_list)\n",
        "  cluster_size = counting_cluster_size(animal_list)\n",
        "\n",
        "  number_of_total_clusters = sum(number_of_clusters)\n",
        "  number_of_swtichings = sum(number_of_clusters)-1\n",
        "  total_cluster_size = sum(cluster_size)\n",
        "  mean_cluster_size = sum(cluster_size) / sum(number_of_clusters)\n",
        "\n",
        "  return number_of_total_clusters, number_of_swtichings, total_cluster_size, mean_cluster_size"
      ],
      "metadata": {
        "id": "9Cvb6NhlWkQm"
      },
      "execution_count": 16,
      "outputs": []
    },
    {
      "cell_type": "code",
      "source": [
        "# 확인\n",
        "final_score (['토끼', '산토끼', '소', '물소', '개구리', '올챙이'])"
      ],
      "metadata": {
        "colab": {
          "base_uri": "https://localhost:8080/"
        },
        "id": "CetNdELPYRxM",
        "outputId": "2c99fac2-6fd8-41a3-e1a6-46b979a1bf12"
      },
      "execution_count": 17,
      "outputs": [
        {
          "output_type": "execute_result",
          "data": {
            "text/plain": [
              "(5, 4, 1, 0.2)"
            ]
          },
          "metadata": {},
          "execution_count": 17
        }
      ]
    },
    {
      "cell_type": "code",
      "source": [],
      "metadata": {
        "id": "1LQlqonQfpN2"
      },
      "execution_count": null,
      "outputs": []
    }
  ]
}